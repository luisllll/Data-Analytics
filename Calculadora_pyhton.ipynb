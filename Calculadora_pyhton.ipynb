{
  "nbformat": 4,
  "nbformat_minor": 0,
  "metadata": {
    "colab": {
      "name": "Untitled6.ipynb",
      "provenance": [],
      "authorship_tag": "ABX9TyMyY3ilMl/18Uz54iTmr7qL",
      "include_colab_link": true
    },
    "kernelspec": {
      "name": "python3",
      "display_name": "Python 3"
    }
  },
  "cells": [
    {
      "cell_type": "markdown",
      "metadata": {
        "id": "view-in-github",
        "colab_type": "text"
      },
      "source": [
        "<a href=\"https://colab.research.google.com/github/luisllll/Data-Analytics/blob/master/Calculadora_pyhton.ipynb\" target=\"_parent\"><img src=\"https://colab.research.google.com/assets/colab-badge.svg\" alt=\"Open In Colab\"/></a>"
      ]
    },
    {
      "cell_type": "code",
      "metadata": {
        "colab": {
          "base_uri": "https://localhost:8080/"
        },
        "id": "lGDYJqfo4r1L",
        "outputId": "6f7ca690-d332-441d-9dae-b9c66c8d9dfc"
      },
      "source": [
        "\r\n",
        "#CALCULADORA\r\n",
        "\r\n",
        "#Alumno: Luis Lloret Llinares\r\n",
        "\r\n",
        "\r\n",
        "operación = input('''\r\n",
        "Elija la operación deseada:\r\n",
        "+ para sumar\r\n",
        "- para restar\r\n",
        "* para multiplicar\r\n",
        "/ para dividir\r\n",
        "''')\r\n",
        " \r\n",
        "num_1 = int(input('primer número: '))\r\n",
        "num_2 = int(input('segundo número: '))\r\n",
        " \r\n",
        "if operación == '+':\r\n",
        "    print('{} + {} = '.format(num_1, num_2))\r\n",
        "    print(num_1 + num_2)\r\n",
        "    resultado_previo=num_1+num_2\r\n",
        "elif operación == '-':\r\n",
        "    print('{} - {} = '.format(num_1, num_2))\r\n",
        "    print(num_1 - num_2)\r\n",
        "    resultado_previo=num_1 - num_2\r\n",
        "elif operación == '*':\r\n",
        "    print('{} * {} = '.format(num_1, num_2))\r\n",
        "    print(num_1 * num_2)\r\n",
        "    resultado_previo=num_1 * num_2\r\n",
        "elif operación == '/':\r\n",
        "    print('{} / {} = '.format(num_1, num_2))\r\n",
        "    print(num_1 / num_2)\r\n",
        "    resultado_previo=num_1 / num_2\r\n"
      ],
      "execution_count": 1,
      "outputs": [
        {
          "output_type": "stream",
          "text": [
            "\n",
            "Elija la operación deseada:\n",
            "+ para sumar\n",
            "- para restar\n",
            "* para multiplicar\n",
            "/ para dividir\n",
            "+\n",
            "primer número: 2\n",
            "segundo número: 3\n",
            "2 + 3 = \n",
            "5\n"
          ],
          "name": "stdout"
        }
      ]
    },
    {
      "cell_type": "code",
      "metadata": {
        "colab": {
          "base_uri": "https://localhost:8080/"
        },
        "id": "_QJ9Hk7248Va",
        "outputId": "f5ae235d-5177-4211-ae2d-a98cd7310534"
      },
      "source": [
        "print(resultado_previo)"
      ],
      "execution_count": 2,
      "outputs": [
        {
          "output_type": "stream",
          "text": [
            "5\n"
          ],
          "name": "stdout"
        }
      ]
    }
  ]
}